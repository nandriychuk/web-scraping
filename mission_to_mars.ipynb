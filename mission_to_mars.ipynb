{
 "cells": [
  {
   "cell_type": "code",
   "execution_count": 97,
   "metadata": {},
   "outputs": [],
   "source": [
    "from splinter import Browser\n",
    "from bs4 import BeautifulSoup as bs\n",
    "import time"
   ]
  },
  {
   "cell_type": "code",
   "execution_count": 98,
   "metadata": {},
   "outputs": [],
   "source": [
    "executable_path = {\"executable_path\": \"chromedriver.exe\"}\n",
    "browser = Browser(\"chrome\", **executable_path, headless=False)\n"
   ]
  },
  {
   "cell_type": "code",
   "execution_count": 106,
   "metadata": {},
   "outputs": [
    {
     "data": {
      "text/plain": [
       "'\\n\\n\\nEquatorial Diameter:6,792 km\\n\\n\\n\\nPolar Diameter:6,752 km\\n\\n\\n\\nMass:6.42 x 10^23 kg (10.7% Earth)\\n\\n\\nMoons:2 (Phobos & Deimos)\\n\\n\\nOrbit Distance:227,943,824 km (1.52 AU)\\n\\n\\nOrbit Period:687 days (1.9 years)\\n\\n\\n\\nSurface Temperature: -153 to 20 °C\\n\\n\\nFirst Record:2nd millennium BC\\n\\n\\nRecorded By:Egyptian astronomers\\n\\n\\n'"
      ]
     },
     "execution_count": 106,
     "metadata": {},
     "output_type": "execute_result"
    }
   ],
   "source": [
    "#MARS NEWS\n",
    "# # Visit NASA Web site\n",
    "# url = 'https://mars.nasa.gov/news/'\n",
    "# browser.visit(url)\n",
    "\n",
    "# # Scrape page into Soup\n",
    "# html = browser.html\n",
    "# # Create a Beautiful Soup object\n",
    "# soup = bs(html, \"html.parser\")\n",
    "\n",
    "# news_title = soup.find(\"div\", class_=\"content_title\").text\n",
    "# news_title\n",
    "# news_p = soup.find(\"div\", class_=\"article_teaser_body\").text\n",
    "# news_p\n",
    "\n",
    "\n",
    "# #MARS IMAGE\n",
    "# url = 'https://www.jpl.nasa.gov/spaceimages/?search=&category=Mars'\n",
    "# browser.visit(url)\n",
    "# html = browser.html\n",
    "# # Create a Beautiful Soup object\n",
    "# soup = bs(html, \"html.parser\")\n",
    "\n",
    "# article = soup.find('article', class_=\"carousel_item\")\n",
    "# style_link = article[\"style\"]\n",
    "# featured_image = style_link.split(\"('\", 1)[1].split(\"')\")[0]\n",
    "# featured_image_url = \"https://www.jpl.nasa.gov\" + featured_image\n",
    "# featured_image_url\n",
    "\n",
    "# #MARS WEATHER\n",
    "# url = 'https://twitter.com/marswxreport?lang=en'\n",
    "# browser.visit(url)\n",
    "# html = browser.html\n",
    "# # Create a Beautiful Soup object\n",
    "# soup = bs(html, \"html.parser\")\n",
    "\n",
    "# mars_weather = soup.find_all('p',class_=\"TweetTextSize\")[1].text\n",
    "# mars_weather\n",
    "\n",
    "\n",
    "#MARS INFO TABLE\n",
    "url = 'https://space-facts.com/mars/'\n",
    "browser.visit(url)\n",
    "html = browser.html\n",
    "# Create a Beautiful Soup object\n",
    "soup = bs(html, \"html.parser\")\n",
    "\n",
    "mars_table = soup.find('table', id=\"tablepress-mars\").text\n",
    "mars_table\n",
    "\n",
    "\n",
    "\n",
    "# articles = soup.find_all('article', class_='product_pod')\n",
    "#         h3 = article.find('h3')\n",
    "#         link = h3.find('a')\n",
    "#         href = link['href']\n",
    "#         title = link['title']\n",
    "#         print('-----------')\n",
    "#         print(title)\n",
    "#         print('http://books.toscrape.com/' + href)"
   ]
  },
  {
   "cell_type": "code",
   "execution_count": 11,
   "metadata": {},
   "outputs": [],
   "source": [
    "# from splinter import Browser\n",
    "# from bs4 import BeautifulSoup as bs\n",
    "# import time\n",
    "\n",
    "\n",
    "# def init_browser():\n",
    "#     # @NOTE: Replace the path with your actual path to the chromedriver\n",
    "#     executable_path = {\"executable_path\": \"chromedriver.exe\"}\n",
    "#     return Browser(\"chrome\", **executable_path, headless=False)\n",
    "\n",
    "\n",
    "# def scrape_info():\n",
    "#     browser = init_browser()\n",
    "\n",
    "#     # Visit visitcostarica.herokuapp.com (goes to the page you want to scrape)\n",
    "#     url = \"https://visitcostarica.herokuapp.com/\"\n",
    "#     browser.visit(url)\n",
    "\n",
    "#     time.sleep(1)\n",
    "\n",
    "#     # Scrape page into Soup\n",
    "#     html = browser.html\n",
    "#     soup = bs(html, \"html.parser\")\n",
    "\n",
    "#     # we go to our website to select the data that need to scraped\n",
    "\n",
    "#     # Get the average temps we put it into its own variable to work with it later\n",
    "#     # this line is isolating the pafagraph with the values we need.\n",
    "#     avg_temps = soup.find('div', id='weather')\n",
    "\n",
    "#     # Get the min avg temp\n",
    "#     # there 2 strong values so for min we are choosing the first one and for max we are\n",
    "#     # choosing the second one \n",
    "#     min_temp = avg_temps.find_all('strong')[0].text\n",
    "\n",
    "#     # Get the max avg temp\n",
    "#     max_temp = avg_temps.find_all('strong')[1].text\n",
    "\n",
    "#     # BONUS: Find the src for the sloth image\n",
    "#     relative_image_path = soup.find_all('img')[2][\"src\"]\n",
    "#     sloth_img = url + relative_image_path\n",
    "\n",
    "#     # Store data in a dictionary\n",
    "#     costa_data = {\n",
    "#         \"sloth_img\": sloth_img,\n",
    "#         \"min_temp\": min_temp,\n",
    "#         \"max_temp\": max_temp\n",
    "#     }\n",
    "\n",
    "#     # Close the browser after scraping\n",
    "#     browser.quit()\n",
    "\n",
    "#     # Return results\n",
    "#     # we heed to return the data to pass it to app.py\n",
    "#     return costa_data"
   ]
  },
  {
   "cell_type": "code",
   "execution_count": null,
   "metadata": {},
   "outputs": [],
   "source": []
  }
 ],
 "metadata": {
  "kernelspec": {
   "display_name": "Python 3",
   "language": "python",
   "name": "python3"
  },
  "language_info": {
   "codemirror_mode": {
    "name": "ipython",
    "version": 3
   },
   "file_extension": ".py",
   "mimetype": "text/x-python",
   "name": "python",
   "nbconvert_exporter": "python",
   "pygments_lexer": "ipython3",
   "version": "3.6.6"
  }
 },
 "nbformat": 4,
 "nbformat_minor": 2
}
